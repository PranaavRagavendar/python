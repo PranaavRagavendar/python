{
 "cells": [
  {
   "cell_type": "code",
   "execution_count": 21,
   "id": "38a07df8",
   "metadata": {},
   "outputs": [],
   "source": [
    "import pandas as pd\n",
    "import numpy as np\n",
    "import matplotlib.pyplot as plt\n",
    "%matplotlib inline"
   ]
  },
  {
   "cell_type": "code",
   "execution_count": 22,
   "id": "37e04b95",
   "metadata": {},
   "outputs": [
    {
     "data": {
      "text/plain": [
       "(12980, 12)"
      ]
     },
     "execution_count": 22,
     "metadata": {},
     "output_type": "execute_result"
    }
   ],
   "source": [
    "data=pd.read_csv('Train 2.csv')\n",
    "data.shape\n"
   ]
  },
  {
   "cell_type": "code",
   "execution_count": 23,
   "id": "7efb46d2",
   "metadata": {},
   "outputs": [
    {
     "data": {
      "text/plain": [
       "(4399, 11)"
      ]
     },
     "execution_count": 23,
     "metadata": {},
     "output_type": "execute_result"
    }
   ],
   "source": [
    "data1=pd.read_csv('Test 2.csv')\n",
    "data1.shape"
   ]
  },
  {
   "cell_type": "code",
   "execution_count": 24,
   "id": "dc66ed79",
   "metadata": {},
   "outputs": [],
   "source": [
    "train=data[0:12980]\n",
    "test=data1[0:4399]"
   ]
  },
  {
   "cell_type": "code",
   "execution_count": 25,
   "id": "ad11ef07",
   "metadata": {},
   "outputs": [],
   "source": [
    "x_train=data.drop('count',axis=1)"
   ]
  },
  {
   "cell_type": "code",
   "execution_count": 26,
   "id": "0d4c15e9",
   "metadata": {},
   "outputs": [],
   "source": [
    "y_train=data['count']"
   ]
  },
  {
   "cell_type": "code",
   "execution_count": 27,
   "id": "f1e2b42e",
   "metadata": {},
   "outputs": [],
   "source": [
    "x_train=pd.get_dummies(x_train)"
   ]
  },
  {
   "cell_type": "code",
   "execution_count": 28,
   "id": "a296acdc",
   "metadata": {},
   "outputs": [],
   "source": [
    "y_train=pd.get_dummies(y_train)"
   ]
  },
  {
   "cell_type": "code",
   "execution_count": 29,
   "id": "4cc0f384",
   "metadata": {},
   "outputs": [],
   "source": [
    "from sklearn.linear_model import LinearRegression"
   ]
  },
  {
   "cell_type": "code",
   "execution_count": 30,
   "id": "c33a8806",
   "metadata": {},
   "outputs": [],
   "source": [
    "lreg=LinearRegression()"
   ]
  },
  {
   "cell_type": "code",
   "execution_count": null,
   "id": "cc112159",
   "metadata": {},
   "outputs": [],
   "source": [
    "lreg.fit(x_train,y_train)\n"
   ]
  },
  {
   "cell_type": "code",
   "execution_count": null,
   "id": "63d6b485",
   "metadata": {},
   "outputs": [],
   "source": [
    "x_test=data1.drop('registered',axis=1)\n",
    "y_test=data1['registered']\n",
    "\n",
    "x_test=pd.get_dummies(x_test)\n",
    "y_test=pd.get_dummies(y_test)\n",
    "\n",
    "x_test.fillna(0,inplace=True)\n",
    "y_test.fillna(0,inplace=True)\n",
    "\n"
   ]
  },
  {
   "cell_type": "code",
   "execution_count": null,
   "id": "70d3cf14",
   "metadata": {},
   "outputs": [],
   "source": [
    "lreg.score(x_test,y_test)\n",
    "\n",
    "pred=lreg.predict(x_test)"
   ]
  },
  {
   "cell_type": "code",
   "execution_count": null,
   "id": "74d49b0d",
   "metadata": {},
   "outputs": [],
   "source": [
    "lref.score(x_train,y_train)"
   ]
  },
  {
   "cell_type": "code",
   "execution_count": null,
   "id": "0e9de49a",
   "metadata": {},
   "outputs": [],
   "source": [
    "rmse_test = np.sqrt(np.mean(np.power((np.array(y_test)-np.array(pred)),2)))"
   ]
  },
  {
   "cell_type": "code",
   "execution_count": null,
   "id": "fdb25e3c",
   "metadata": {},
   "outputs": [],
   "source": [
    "rmse_test=np.sqrt(np.mean(np.power((np.array(y_train)-np.array(lreg.predict(x_train))),2)))"
   ]
  },
  {
   "cell_type": "code",
   "execution_count": null,
   "id": "f6e336b3",
   "metadata": {},
   "outputs": [],
   "source": []
  }
 ],
 "metadata": {
  "kernelspec": {
   "display_name": "Python 3 (ipykernel)",
   "language": "python",
   "name": "python3"
  },
  "language_info": {
   "codemirror_mode": {
    "name": "ipython",
    "version": 3
   },
   "file_extension": ".py",
   "mimetype": "text/x-python",
   "name": "python",
   "nbconvert_exporter": "python",
   "pygments_lexer": "ipython3",
   "version": "3.11.3"
  }
 },
 "nbformat": 4,
 "nbformat_minor": 5
}
