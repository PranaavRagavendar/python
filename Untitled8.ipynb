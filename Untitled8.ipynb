{
 "cells": [
  {
   "cell_type": "code",
   "execution_count": null,
   "id": "58f5d30b",
   "metadata": {},
   "outputs": [],
   "source": [
    "import pandas as pd"
   ]
  },
  {
   "cell_type": "code",
   "execution_count": null,
   "id": "941ec32d",
   "metadata": {},
   "outputs": [],
   "source": [
    "data=pd.read_csv('Train 2.csv')"
   ]
  },
  {
   "cell_type": "code",
   "execution_count": null,
   "id": "6e555fca",
   "metadata": {},
   "outputs": [],
   "source": [
    "data2=pd.read_csv('Test 2.csv')"
   ]
  },
  {
   "cell_type": "code",
   "execution_count": null,
   "id": "910a1d2d",
   "metadata": {},
   "outputs": [],
   "source": [
    "\n",
    "data.shape\n"
   ]
  },
  {
   "cell_type": "code",
   "execution_count": null,
   "id": "9b2486cc",
   "metadata": {},
   "outputs": [],
   "source": [
    "test=data2[0:4399]"
   ]
  },
  {
   "cell_type": "code",
   "execution_count": null,
   "id": "4a843cf2",
   "metadata": {},
   "outputs": [],
   "source": [
    "train=data[0:12980]"
   ]
  },
  {
   "cell_type": "code",
   "execution_count": null,
   "id": "cecd8aa1",
   "metadata": {},
   "outputs": [],
   "source": [
    "x_train=data.drop('count',axis=1)"
   ]
  },
  {
   "cell_type": "code",
   "execution_count": null,
   "id": "3e26aa1e",
   "metadata": {},
   "outputs": [],
   "source": [
    "y_train=data['count']"
   ]
  },
  {
   "cell_type": "code",
   "execution_count": null,
   "id": "c8274959",
   "metadata": {},
   "outputs": [],
   "source": [
    "x_train=pd.get_dummies(x_train)\n",
    "x_train.fillna(0,inplace=True)"
   ]
  },
  {
   "cell_type": "code",
   "execution_count": null,
   "id": "4c05a038",
   "metadata": {},
   "outputs": [],
   "source": [
    "y_train=pd.get_dummies(y_train)\n",
    "y_train.fillna(0,inplace=True)"
   ]
  },
  {
   "cell_type": "code",
   "execution_count": null,
   "id": "d0bd2033",
   "metadata": {},
   "outputs": [],
   "source": [
    "x_test=data.drop('count',axis=1)\n",
    "x_test.fillna(0,inplace=True)\n"
   ]
  },
  {
   "cell_type": "code",
   "execution_count": null,
   "id": "041316a8",
   "metadata": {},
   "outputs": [],
   "source": [
    "y_test=data['count']\n",
    "y_test.fillna(0,inplace=True)"
   ]
  },
  {
   "cell_type": "code",
   "execution_count": null,
   "id": "fd558998",
   "metadata": {},
   "outputs": [],
   "source": [
    "x_test=pd.get_dummies(x_test)"
   ]
  },
  {
   "cell_type": "code",
   "execution_count": null,
   "id": "c3f0de2a",
   "metadata": {},
   "outputs": [],
   "source": [
    "Y_test=pd.get_dummies(y_test)"
   ]
  },
  {
   "cell_type": "code",
   "execution_count": null,
   "id": "fa0b0c11",
   "metadata": {},
   "outputs": [],
   "source": [
    "from sklearn.linear_model import LinearRegression"
   ]
  },
  {
   "cell_type": "code",
   "execution_count": null,
   "id": "967f0305",
   "metadata": {},
   "outputs": [],
   "source": [
    "lreg=LinearRegression()"
   ]
  },
  {
   "cell_type": "code",
   "execution_count": null,
   "id": "93fafe5e",
   "metadata": {},
   "outputs": [],
   "source": [
    "x_train.shape"
   ]
  },
  {
   "cell_type": "code",
   "execution_count": null,
   "id": "781ba9d2",
   "metadata": {},
   "outputs": [],
   "source": [
    "lreg.fit(x_train,y_train)"
   ]
  },
  {
   "cell_type": "code",
   "execution_count": null,
   "id": "a896643f",
   "metadata": {},
   "outputs": [],
   "source": []
  },
  {
   "cell_type": "code",
   "execution_count": null,
   "id": "def615b3",
   "metadata": {},
   "outputs": [],
   "source": []
  },
  {
   "cell_type": "code",
   "execution_count": null,
   "id": "9f3b6d7f",
   "metadata": {},
   "outputs": [],
   "source": []
  },
  {
   "cell_type": "code",
   "execution_count": null,
   "id": "d5bd5e85",
   "metadata": {},
   "outputs": [],
   "source": []
  }
 ],
 "metadata": {
  "kernelspec": {
   "display_name": "Python 3 (ipykernel)",
   "language": "python",
   "name": "python3"
  },
  "language_info": {
   "codemirror_mode": {
    "name": "ipython",
    "version": 3
   },
   "file_extension": ".py",
   "mimetype": "text/x-python",
   "name": "python",
   "nbconvert_exporter": "python",
   "pygments_lexer": "ipython3",
   "version": "3.11.3"
  }
 },
 "nbformat": 4,
 "nbformat_minor": 5
}
